{
 "cells": [
  {
   "cell_type": "code",
   "execution_count": null,
   "id": "4b24f86d",
   "metadata": {},
   "outputs": [],
   "source": [
    "from datetime import datetime\n",
    "\n",
    "# Get the current date\n",
    "current_date = datetime.now().strftime(\"%Y-%m-%d\")\n",
    "\n",
    "# Write the current date to the file\n",
    "with open(\"today.txt\", \"w\") as file:\n",
    "    file.write(current_date)\n"
   ]
  },
  {
   "cell_type": "code",
   "execution_count": null,
   "id": "ed7b2513",
   "metadata": {},
   "outputs": [],
   "source": [
    "# Read the contents of the file into a string\n",
    "with open(\"today.txt\", \"r\") as file:\n",
    "    today_string = file.read()\n",
    "\n",
    "print(today_string)  # Optional: Print the content to verify\n"
   ]
  },
  {
   "cell_type": "code",
   "execution_count": null,
   "id": "665a07b5",
   "metadata": {},
   "outputs": [],
   "source": [
    "from datetime import datetime\n",
    "\n",
    "# Assuming today_string contains the date in the format YYYY-MM-DD\n",
    "parsed_date = datetime.strptime(today_string, \"%Y-%m-%d\")\n",
    "\n",
    "print(parsed_date)"
   ]
  },
  {
   "cell_type": "code",
   "execution_count": null,
   "id": "26703c6b",
   "metadata": {},
   "outputs": [],
   "source": [
    "import multiprocessing\n",
    "import time\n",
    "import random\n",
    "from datetime import datetime\n",
    "\n",
    "def print_current_time():\n",
    "    # Generate a random sleep time between 0 and 1 second\n",
    "    sleep_time = random.random()\n",
    "    time.sleep(sleep_time)\n",
    "    \n",
    "    # Print the current time\n",
    "    current_time = datetime.now().strftime(\"%Y-%m-%d %H:%M:%S\")\n",
    "    print(f\"Process {multiprocessing.current_process().name}: Current Time - {current_time}\")\n",
    "\n",
    "if __name__ == \"__main__\":\n",
    "    # Create three separate processes\n",
    "    processes = []\n",
    "    for i in range(3):\n",
    "        process = multiprocessing.Process(target=print_current_time, name=f\"Process-{i+1}\")\n",
    "        processes.append(process)\n",
    "        process.start()\n",
    "    \n",
    "    # Wait for all processes to finish\n",
    "    for process in processes:\n",
    "        process.join()\n"
   ]
  }
 ],
 "metadata": {
  "kernelspec": {
   "display_name": "Python 3 (ipykernel)",
   "language": "python",
   "name": "python3"
  },
  "language_info": {
   "codemirror_mode": {
    "name": "ipython",
    "version": 3
   },
   "file_extension": ".py",
   "mimetype": "text/x-python",
   "name": "python",
   "nbconvert_exporter": "python",
   "pygments_lexer": "ipython3",
   "version": "3.11.5"
  }
 },
 "nbformat": 4,
 "nbformat_minor": 5
}
